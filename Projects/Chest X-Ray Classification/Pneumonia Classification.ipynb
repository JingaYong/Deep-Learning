{
 "cells": [
  {
   "cell_type": "raw",
   "id": "17e38d38-3a32-4c41-806c-0ad6c6c29799",
   "metadata": {},
   "source": [
    "Import Packages"
   ]
  },
  {
   "cell_type": "code",
   "execution_count": 1,
   "id": "1c84aecc-6514-4b7d-8ee6-fa5869f2a276",
   "metadata": {},
   "outputs": [],
   "source": [
    "import matplotlib.pyplot as plt\n",
    "import numpy as np\n",
    "import os\n",
    "import tensorflow as tf\n",
    "from tensorflow import keras\n",
    "from tensorflow.keras import layers\n",
    "from tensorflow.keras.models import Sequential"
   ]
  },
  {
   "cell_type": "raw",
   "id": "9f8638c6-a299-4a1d-b25d-080fb517b048",
   "metadata": {},
   "source": [
    "Initialize vars and set train and test dir paths"
   ]
  },
  {
   "cell_type": "code",
   "execution_count": 4,
   "id": "4b8a391d-f5cb-4d97-8e0b-df2f475426d9",
   "metadata": {},
   "outputs": [],
   "source": [
    "batch_size = 32\n",
    "img_height = 180\n",
    "img_width = 180\n",
    "\n",
    "dr_tr = 'D:\\\\Users\\\\Me\\\\Programming\\\\My_Python\\\\DeepLearning\\\\Projects\\\\Chest X-Ray Classification\\\\chest_xray\\\\train'\n",
    "dr_test = 'D:\\\\Users\\\\Me\\\\Programming\\\\My_Python\\\\DeepLearning\\\\Projects\\\\Chest X-Ray Classification\\\\chest_xray\\\\test'\n",
    "dr_val = 'D:\\\\Users\\\\Me\\\\Programming\\\\My_Python\\\\DeepLearning\\\\Projects\\\\Chest X-Ray Classification\\\\chest_xray\\\\val'"
   ]
  },
  {
   "cell_type": "raw",
   "id": "28933507-65f9-4d76-ad54-40042db1edf4",
   "metadata": {},
   "source": [
    "Convert Directory into image dataset using keras.utils inbuilt function"
   ]
  },
  {
   "cell_type": "code",
   "execution_count": 5,
   "id": "417c3c22-881c-4c8d-a3dd-afc9f6d00922",
   "metadata": {},
   "outputs": [
    {
     "name": "stdout",
     "output_type": "stream",
     "text": [
      "Found 5216 files belonging to 2 classes.\n",
      "Found 16 files belonging to 2 classes.\n",
      "Found 624 files belonging to 2 classes.\n",
      "['NORMAL', 'PNEUMONIA']\n"
     ]
    }
   ],
   "source": [
    "train_ds = tf.keras.utils.image_dataset_from_directory(\n",
    "  dr_tr,\n",
    "  seed=123,\n",
    "  image_size=(img_height, img_width),\n",
    "  batch_size=batch_size)\n",
    "\n",
    "\n",
    "val_ds = tf.keras.utils.image_dataset_from_directory(\n",
    "  dr_val,\n",
    "  seed=123,\n",
    "  image_size=(img_height, img_width),\n",
    "  batch_size=batch_size)\n",
    "\n",
    "test_ds = tf.keras.utils.image_dataset_from_directory(\n",
    "  dr_test,\n",
    "  seed=123,\n",
    "  image_size=(img_height, img_width),\n",
    "  batch_size=batch_size)\n",
    "\n",
    "class_names = train_ds.class_names\n",
    "print(class_names)"
   ]
  },
  {
   "cell_type": "raw",
   "id": "2cee142c-a112-441e-a1c3-12bcaafcce15",
   "metadata": {},
   "source": [
    "Configure the dataset for performance\n",
    "\n",
    "Dataset.cache - keeps the images in memory after they're loaded off disk during the first epoch. This will ensure the dataset does not become a bottleneck while training your model. If your dataset is too large to fit into memory, you can also use this method to create a performant on-disk cache.\n",
    "\n",
    "Dataset.prefetch - overlaps data preprocessing and model execution while training."
   ]
  },
  {
   "cell_type": "code",
   "execution_count": 6,
   "id": "0a8c61af-9c9a-4e51-ae55-cd63a25ff93a",
   "metadata": {},
   "outputs": [],
   "source": [
    "AUTOTUNE = tf.data.AUTOTUNE\n",
    "train_ds = train_ds.cache().shuffle(1000).prefetch(buffer_size=AUTOTUNE)\n",
    "val_ds = val_ds.cache().prefetch(buffer_size=AUTOTUNE)\n",
    "test_ds = test_ds.cache().prefetch(buffer_size=AUTOTUNE)"
   ]
  },
  {
   "cell_type": "raw",
   "id": "0e31ea00-b997-4b45-b563-079b9a724eae",
   "metadata": {},
   "source": [
    "Image data normalization"
   ]
  },
  {
   "cell_type": "code",
   "execution_count": 19,
   "id": "41071b7a-1bd7-42e9-a364-5232ae687ef4",
   "metadata": {},
   "outputs": [],
   "source": [
    "normalization_layer = layers.Rescaling(1./255)\n",
    "\n",
    "train_ds = train_ds.map(lambda x, y: (normalization_layer(x), y))\n",
    "val_ds = val_ds.map(lambda x, y: (normalization_layer(x), y))\n",
    "test_ds = test_ds.map(lambda x, y: (normalization_layer(x), y))"
   ]
  },
  {
   "cell_type": "raw",
   "id": "5d4d1e61-d524-46d8-afac-e2f36b3b183c",
   "metadata": {},
   "source": [
    "CNN Model Construction, using adam optimizer with learning rate = 0.003, Sparse Categorical CrossEntropy Loss Function "
   ]
  },
  {
   "cell_type": "code",
   "execution_count": 27,
   "id": "0a001689-73f6-45e6-8e3e-d20f03d8c840",
   "metadata": {},
   "outputs": [
    {
     "name": "stdout",
     "output_type": "stream",
     "text": [
      "Model: \"sequential_8\"\n",
      "_________________________________________________________________\n",
      " Layer (type)                Output Shape              Param #   \n",
      "=================================================================\n",
      " conv2d_24 (Conv2D)          (None, 178, 178, 32)      896       \n",
      "                                                                 \n",
      " batch_normalization_8 (Batc  (None, 178, 178, 32)     128       \n",
      " hNormalization)                                                 \n",
      "                                                                 \n",
      " max_pooling2d_24 (MaxPoolin  (None, 89, 89, 32)       0         \n",
      " g2D)                                                            \n",
      "                                                                 \n",
      " dropout_10 (Dropout)        (None, 89, 89, 32)        0         \n",
      "                                                                 \n",
      " conv2d_25 (Conv2D)          (None, 87, 87, 64)        18496     \n",
      "                                                                 \n",
      " batch_normalization_9 (Batc  (None, 87, 87, 64)       256       \n",
      " hNormalization)                                                 \n",
      "                                                                 \n",
      " max_pooling2d_25 (MaxPoolin  (None, 43, 43, 64)       0         \n",
      " g2D)                                                            \n",
      "                                                                 \n",
      " dropout_11 (Dropout)        (None, 43, 43, 64)        0         \n",
      "                                                                 \n",
      " conv2d_26 (Conv2D)          (None, 41, 41, 128)       73856     \n",
      "                                                                 \n",
      " batch_normalization_10 (Bat  (None, 41, 41, 128)      512       \n",
      " chNormalization)                                                \n",
      "                                                                 \n",
      " max_pooling2d_26 (MaxPoolin  (None, 20, 20, 128)      0         \n",
      " g2D)                                                            \n",
      "                                                                 \n",
      " dropout_12 (Dropout)        (None, 20, 20, 128)       0         \n",
      "                                                                 \n",
      " flatten_8 (Flatten)         (None, 51200)             0         \n",
      "                                                                 \n",
      " dense_17 (Dense)            (None, 512)               26214912  \n",
      "                                                                 \n",
      " batch_normalization_11 (Bat  (None, 512)              2048      \n",
      " chNormalization)                                                \n",
      "                                                                 \n",
      " dropout_13 (Dropout)        (None, 512)               0         \n",
      "                                                                 \n",
      " dense_18 (Dense)            (None, 2)                 1026      \n",
      "                                                                 \n",
      "=================================================================\n",
      "Total params: 26,312,130\n",
      "Trainable params: 26,310,658\n",
      "Non-trainable params: 1,472\n",
      "_________________________________________________________________\n"
     ]
    }
   ],
   "source": [
    "from keras.layers import Conv2D, MaxPooling2D,Dropout, Flatten, Dense, Activation,BatchNormalization\n",
    "from tensorflow.keras.callbacks import EarlyStopping, ReduceLROnPlateau\n",
    "\n",
    "model = Sequential()\n",
    "model.add(Conv2D(32, (3, 3), activation='relu', input_shape=(img_height, img_width, 3)))\n",
    "model.add(BatchNormalization())\n",
    "model.add(MaxPooling2D(pool_size=(2, 2)))\n",
    "model.add(Dropout(0.25))\n",
    "model.add(Conv2D(64, (3, 3), activation='relu'))\n",
    "model.add(BatchNormalization())\n",
    "model.add(MaxPooling2D(pool_size=(2, 2)))\n",
    "model.add(Dropout(0.25))\n",
    "model.add(Conv2D(128, (3, 3), activation='relu'))\n",
    "model.add(BatchNormalization())\n",
    "model.add(MaxPooling2D(pool_size=(2, 2)))\n",
    "model.add(Dropout(0.25))\n",
    "model.add(Flatten())\n",
    "model.add(Dense(512, activation='relu'))\n",
    "model.add(BatchNormalization())\n",
    "model.add(Dropout(0.5))\n",
    "model.add(Dense(2, activation='softmax'))\n",
    "\n",
    "model.compile(optimizer='adam',\n",
    "              loss=tf.keras.losses.SparseCategoricalCrossentropy(),\n",
    "              metrics=['accuracy'])\n",
    "\n",
    "\n",
    "model.summary()"
   ]
  },
  {
   "cell_type": "raw",
   "id": "02de0bc6-f7d5-4c3e-b9b6-4ee2a83cc477",
   "metadata": {},
   "source": [
    "Training the model for 10 epochs"
   ]
  },
  {
   "cell_type": "code",
   "execution_count": 29,
   "id": "da6c82e0-598d-428d-9bf8-8352068dbaeb",
   "metadata": {},
   "outputs": [
    {
     "name": "stdout",
     "output_type": "stream",
     "text": [
      "Epoch 1/10\n",
      "163/163 [==============================] - 218s 1s/step - loss: 0.1517 - accuracy: 0.9415 - val_loss: 36.4949 - val_accuracy: 0.5000 - lr: 0.0010\n",
      "Epoch 2/10\n",
      "163/163 [==============================] - 211s 1s/step - loss: 0.1435 - accuracy: 0.9479 - val_loss: 41.9484 - val_accuracy: 0.5000 - lr: 0.0010\n",
      "Epoch 3/10\n",
      "163/163 [==============================] - ETA: 0s - loss: 0.1595 - accuracy: 0.9400\n",
      "Epoch 3: ReduceLROnPlateau reducing learning rate to 0.0005000000237487257.\n",
      "163/163 [==============================] - 213s 1s/step - loss: 0.1595 - accuracy: 0.9400 - val_loss: 9.3195 - val_accuracy: 0.5000 - lr: 0.0010\n",
      "Epoch 4/10\n",
      "163/163 [==============================] - 211s 1s/step - loss: 0.1604 - accuracy: 0.9396 - val_loss: 77.4041 - val_accuracy: 0.5000 - lr: 5.0000e-04\n",
      "Epoch 5/10\n",
      "163/163 [==============================] - ETA: 0s - loss: 0.1421 - accuracy: 0.9482\n",
      "Epoch 5: ReduceLROnPlateau reducing learning rate to 0.0002500000118743628.\n",
      "163/163 [==============================] - 206s 1s/step - loss: 0.1421 - accuracy: 0.9482 - val_loss: 2161.2842 - val_accuracy: 0.5000 - lr: 5.0000e-04\n",
      "Epoch 6/10\n",
      "163/163 [==============================] - 204s 1s/step - loss: 0.1259 - accuracy: 0.9519 - val_loss: 5855.2617 - val_accuracy: 0.5000 - lr: 2.5000e-04\n",
      "Epoch 7/10\n",
      "163/163 [==============================] - ETA: 0s - loss: 0.1199 - accuracy: 0.9551\n",
      "Epoch 7: ReduceLROnPlateau reducing learning rate to 0.0001250000059371814.\n",
      "163/163 [==============================] - 208s 1s/step - loss: 0.1199 - accuracy: 0.9551 - val_loss: 1338.8320 - val_accuracy: 0.5000 - lr: 2.5000e-04\n",
      "Epoch 8/10\n",
      "163/163 [==============================] - 202s 1s/step - loss: 0.1189 - accuracy: 0.9572 - val_loss: 1078.9718 - val_accuracy: 0.5000 - lr: 1.2500e-04\n",
      "Epoch 9/10\n",
      "163/163 [==============================] - ETA: 0s - loss: 0.1161 - accuracy: 0.9572\n",
      "Epoch 9: ReduceLROnPlateau reducing learning rate to 6.25000029685907e-05.\n",
      "163/163 [==============================] - 213s 1s/step - loss: 0.1161 - accuracy: 0.9572 - val_loss: 1435.0931 - val_accuracy: 0.5000 - lr: 1.2500e-04\n",
      "Epoch 10/10\n",
      "163/163 [==============================] - 187s 1s/step - loss: 0.1160 - accuracy: 0.9559 - val_loss: 1511.5237 - val_accuracy: 0.5000 - lr: 6.2500e-05\n"
     ]
    }
   ],
   "source": [
    "epochs = 10\n",
    "earlystop = EarlyStopping(patience=10)\n",
    "learning_rate_reduction = ReduceLROnPlateau(monitor='val_accuracy', patience=2, verbose=1, factor=0.5, min_lr=0.00001)\n",
    "callbacks = [earlystop, learning_rate_reduction]\n",
    "history = model.fit(train_ds, validation_data=val_ds, callbacks=callbacks, epochs=epochs)"
   ]
  },
  {
   "cell_type": "raw",
   "id": "df470e3e-de77-454e-b68a-2ee097b5c2b1",
   "metadata": {},
   "source": [
    "Checking the performance of model on training and testing data"
   ]
  },
  {
   "cell_type": "code",
   "execution_count": 30,
   "id": "fd11cf04-57a3-4740-89d3-085b632308ce",
   "metadata": {},
   "outputs": [
    {
     "data": {
      "image/png": "[encoded data removed]",
      "text/plain": [
       "<Figure size 576x576 with 2 Axes>"
      ]
     },
     "metadata": {
      "needs_background": "light"
     },
     "output_type": "display_data"
    }
   ],
   "source": [
    "# Visualize training results\n",
    "acc = history.history['accuracy']\n",
    "val_acc = history.history['val_accuracy']\n",
    "\n",
    "loss = history.history['loss']\n",
    "val_loss = history.history['val_loss']\n",
    "\n",
    "epochs_range = range(epochs)\n",
    "\n",
    "plt.figure(figsize=(8, 8))\n",
    "plt.subplot(1, 2, 1)\n",
    "plt.plot(epochs_range, acc, label='Training Accuracy')\n",
    "plt.plot(epochs_range, val_acc, label='Validation Accuracy')\n",
    "plt.legend(loc='lower right')\n",
    "plt.title('Training and Validation Accuracy')\n",
    "\n",
    "plt.subplot(1, 2, 2)\n",
    "plt.plot(epochs_range, loss, label='Training Loss')\n",
    "plt.plot(epochs_range, val_loss, label='Validation Loss')\n",
    "plt.legend(loc='upper right')\n",
    "plt.title('Training and Validation Loss')\n",
    "plt.show()"
   ]
  },
  {
   "cell_type": "raw",
   "id": "113b1062-4407-4d90-a38d-f32b0a70b9f9",
   "metadata": {},
   "source": [
    "Predictions on user defined images"
   ]
  },
  {
   "cell_type": "code",
   "execution_count": 32,
   "id": "fd58957e-fed7-4524-a44c-8038d0672bc6",
   "metadata": {},
   "outputs": [
    {
     "name": "stdout",
     "output_type": "stream",
     "text": [
      "This image most likely belongs to PNEUMONIA with a 73.11 percent confidence.\n"
     ]
    }
   ],
   "source": [
    "img_path = '....\\\\test\\\\PNEUMONIA\\\\person1_virus_6.jpeg'\n",
    "# Actual output - PNeumonia - image from test dataset\n",
    "img = tf.keras.utils.load_img(\n",
    "    img_path, target_size=(img_height, img_width)\n",
    ")\n",
    "img_array = tf.keras.utils.img_to_array(img)\n",
    "img_array = tf.expand_dims(img_array, 0) # Create a batch\n",
    "\n",
    "predictions = model.predict(img_array)\n",
    "score = tf.nn.softmax(predictions[0])\n",
    "\n",
    "print(\n",
    "    \"This image most likely belongs to {} with a {:.2f} percent confidence.\"\n",
    "    .format(class_names[np.argmax(score)], 100 * np.max(score))\n",
    ")\n"
   ]
  }
 ],
 "metadata": {
  "kernelspec": {
   "display_name": "Python 3 (ipykernel)",
   "language": "python",
   "name": "python3"
  },
  "language_info": {
   "codemirror_mode": {
    "name": "ipython",
    "version": 3
   },
   "file_extension": ".py",
   "mimetype": "text/x-python",
   "name": "python",
   "nbconvert_exporter": "python",
   "pygments_lexer": "ipython3",
   "version": "3.10.2"
  }
 },
 "nbformat": 4,
 "nbformat_minor": 5
}
