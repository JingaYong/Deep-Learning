{
 "cells": [
  {
   "cell_type": "raw",
   "id": "e0a805c9-5ea2-4590-acf5-d49c3ec9fc9f",
   "metadata": {},
   "source": [
    "Import Packages"
   ]
  },
  {
   "cell_type": "code",
   "execution_count": null,
   "id": "19f954d4-9f43-4b01-8b65-999b9d7d04f1",
   "metadata": {},
   "outputs": [],
   "source": [
    "import matplotlib.pyplot as plt\n",
    "import numpy as np\n",
    "import os\n",
    "import tensorflow as tf\n",
    "from tensorflow import keras\n",
    "from tensorflow.keras import layers\n",
    "from tensorflow.keras.models import Sequential"
   ]
  },
  {
   "cell_type": "raw",
   "id": "d3a13d4c-c8e4-40a0-a485-3dca5f8be21e",
   "metadata": {},
   "source": [
    "Initialize vars and set train and test dir paths"
   ]
  },
  {
   "cell_type": "code",
   "execution_count": null,
   "id": "a11c4b04-0c1f-4f55-955e-7273b54b71ba",
   "metadata": {},
   "outputs": [],
   "source": [
    "batch_size = 32\n",
    "img_height = 180\n",
    "img_width = 180\n",
    "dr = 'root_path/dogs vs cats'"
   ]
  },
  {
   "cell_type": "raw",
   "id": "6d7fe95a-a971-4b6c-8f01-e162fd4290e1",
   "metadata": {},
   "source": [
    "Convert Directory into image dataset using keras.utils inbuilt function"
   ]
  },
  {
   "cell_type": "code",
   "execution_count": null,
   "id": "2ceafb23-1207-436a-bd12-921e149fd7bb",
   "metadata": {},
   "outputs": [],
   "source": [
    "train_ds = tf.keras.utils.image_dataset_from_directory(\n",
    "  os.path.join(dr,'train'),\n",
    "  validation_split=0.2,\n",
    "  subset=\"training\",\n",
    "  seed=123,\n",
    "  image_size=(img_height, img_width),\n",
    "  batch_size=batch_size)\n",
    "\n",
    "\n",
    "val_ds = tf.keras.utils.image_dataset_from_directory(\n",
    "  os.path.join(dr,'train'),\n",
    "  validation_split=0.2,\n",
    "  subset=\"validation\",\n",
    "  seed=123,\n",
    "  image_size=(img_height, img_width),\n",
    "  batch_size=batch_size)\n",
    "\n",
    "test_ds = tf.keras.utils.image_dataset_from_directory(\n",
    "  os.path.join(dr,'test'),\n",
    "  seed=123,\n",
    "  image_size=(img_height, img_width),\n",
    "  batch_size=batch_size)\n",
    "\n",
    "class_names = train_ds.class_names\n",
    "print(class_names)"
   ]
  },
  {
   "cell_type": "raw",
   "id": "8d85bacc-4a78-4bab-8c9f-713ae9ee2ca0",
   "metadata": {},
   "source": [
    "Configure the dataset for performance\n",
    "\n",
    "Dataset.cache - keeps the images in memory after they're loaded off disk during the first epoch. This will ensure the dataset does not become a bottleneck while training your model. If your dataset is too large to fit into memory, you can also use this method to create a performant on-disk cache.\n",
    "\n",
    "Dataset.prefetch - overlaps data preprocessing and model execution while training."
   ]
  },
  {
   "cell_type": "code",
   "execution_count": null,
   "id": "48d30981-b4c9-4506-8d14-09eb5a71d380",
   "metadata": {},
   "outputs": [],
   "source": [
    "AUTOTUNE = tf.data.AUTOTUNE\n",
    "train_ds = train_ds.cache().shuffle(1000).prefetch(buffer_size=AUTOTUNE)\n",
    "val_ds = val_ds.cache().prefetch(buffer_size=AUTOTUNE)\n",
    "test_ds = test_ds.cache().prefetch(buffer_size=AUTOTUNE)"
   ]
  },
  {
   "cell_type": "raw",
   "id": "1c856d85-cf04-4018-a38a-67fba28d1ca3",
   "metadata": {},
   "source": [
    "CNN Model Construction, using adam optimizer with learning rate = 0.003, Sparse Categorical CrossEntropy Loss Function "
   ]
  },
  {
   "cell_type": "code",
   "execution_count": null,
   "id": "c6c72681-41c3-43ac-9eba-292e75304d27",
   "metadata": {},
   "outputs": [],
   "source": [
    "num_classes = 2\n",
    "\n",
    "model = Sequential([\n",
    "  layers.Rescaling(1./255, input_shape=(img_height, img_width, 3)),\n",
    "  layers.Conv2D(16, 3, padding='same', activation='relu'),\n",
    "  layers.MaxPooling2D(),\n",
    "  layers.Conv2D(32, 3, padding='same', activation='relu'),\n",
    "  layers.MaxPooling2D(),\n",
    "  layers.Conv2D(64, 3, padding='same', activation='relu'),\n",
    "  layers.MaxPooling2D(),\n",
    "  layers.Flatten(),\n",
    "  layers.Dense(128, activation='relu'),\n",
    "  layers.Dense(num_classes)\n",
    "])\n",
    "\n",
    "model.compile(optimizer='adam',\n",
    "              loss=tf.keras.losses.SparseCategoricalCrossentropy(from_logits=True),\n",
    "              metrics=['accuracy'])\n",
    "\n",
    "model.summary()"
   ]
  },
  {
   "cell_type": "raw",
   "id": "caf99b9c-fdcc-4176-aaa7-8baa777f2763",
   "metadata": {},
   "source": [
    "Training the model for 15 epochs"
   ]
  },
  {
   "cell_type": "code",
   "execution_count": null,
   "id": "6ac38405-a6fe-48b3-b20b-46cefadcd018",
   "metadata": {},
   "outputs": [],
   "source": [
    "\n",
    "epochs = 15\n",
    "history = model.fit(train_ds, validation_data=val_ds, epochs=epochs)"
   ]
  }
 ],
 "metadata": {
  "kernelspec": {
   "display_name": "Python 3 (ipykernel)",
   "language": "python",
   "name": "python3"
  },
  "language_info": {
   "codemirror_mode": {
    "name": "ipython",
    "version": 3
   },
   "file_extension": ".py",
   "mimetype": "text/x-python",
   "name": "python",
   "nbconvert_exporter": "python",
   "pygments_lexer": "ipython3",
   "version": "3.10.2"
  }
 },
 "nbformat": 4,
 "nbformat_minor": 5
}
