{
 "cells": [
  {
   "cell_type": "raw",
   "id": "0a0bb443-0649-4fce-8e71-afd359a7deb3",
   "metadata": {},
   "source": [
    "Import Packages"
   ]
  },
  {
   "cell_type": "code",
   "execution_count": null,
   "id": "4cf0ad15-d881-46f6-a61c-c5facc0984ae",
   "metadata": {},
   "outputs": [],
   "source": [
    "import matplotlib.pyplot as plt\n",
    "import numpy as np\n",
    "import os\n",
    "import tensorflow as tf\n",
    "from tensorflow import keras\n",
    "from tensorflow.keras import layers\n",
    "from tensorflow.keras.models import Sequential"
   ]
  },
  {
   "cell_type": "raw",
   "id": "9bb58ff0-8136-44fd-a48f-f3acd58e526b",
   "metadata": {},
   "source": [
    "Initialize vars and set train and test dir paths"
   ]
  },
  {
   "cell_type": "code",
   "execution_count": null,
   "id": "967a8bbe-de6c-45c1-bcc8-4aff55e990fd",
   "metadata": {},
   "outputs": [],
   "source": [
    "batch_size = 32\n",
    "img_height = 180\n",
    "img_width = 180\n",
    "dr = 'D:\\\\........\\\\Landscapes'"
   ]
  },
  {
   "cell_type": "raw",
   "id": "17e571bb-4d84-4b2d-a1aa-30fe8166aabe",
   "metadata": {},
   "source": [
    "Convert Directory into image dataset using keras.utils inbuilt function"
   ]
  },
  {
   "cell_type": "code",
   "execution_count": null,
   "id": "2572042b-8716-420c-9615-4016284f326b",
   "metadata": {},
   "outputs": [],
   "source": [
    "train_ds = tf.keras.utils.image_dataset_from_directory(\n",
    "  dr,\n",
    "  validation_split=0.2,\n",
    "  subset=\"training\",\n",
    "  seed=123,\n",
    "  image_size=(img_height, img_width),\n",
    "  batch_size=batch_size)\n",
    "\n",
    "\n",
    "val_ds = tf.keras.utils.image_dataset_from_directory(\n",
    "  dr,\n",
    "  validation_split=0.2,\n",
    "  subset=\"validation\",\n",
    "  seed=123,\n",
    "  image_size=(img_height, img_width),\n",
    "  batch_size=batch_size)\n",
    "\n",
    "class_names = train_ds.class_names\n",
    "print(class_names)"
   ]
  },
  {
   "cell_type": "raw",
   "id": "d1eb7454-0c75-4af0-9784-6971f1299657",
   "metadata": {},
   "source": [
    "Configure the dataset for performance\n",
    "\n",
    "Dataset.cache - keeps the images in memory after they're loaded off disk during the first epoch. This will ensure the dataset does not become a bottleneck while training your model. If your dataset is too large to fit into memory, you can also use this method to create a performant on-disk cache.\n",
    "\n",
    "Dataset.prefetch - overlaps data preprocessing and model execution while training."
   ]
  },
  {
   "cell_type": "code",
   "execution_count": null,
   "id": "f1cdc457-afed-42a4-abd3-48f1691afc85",
   "metadata": {},
   "outputs": [],
   "source": [
    "AUTOTUNE = tf.data.AUTOTUNE\n",
    "train_ds = train_ds.cache().shuffle(1000).prefetch(buffer_size=AUTOTUNE)\n",
    "val_ds = val_ds.cache().prefetch(buffer_size=AUTOTUNE)"
   ]
  },
  {
   "cell_type": "raw",
   "id": "70fb6554-ce57-4fab-a2b6-d8d6c872ae0a",
   "metadata": {},
   "source": [
    "CNN Model Construction, using adam optimizer with learning rate = 0.003, Sparse Categorical CrossEntropy Loss Function "
   ]
  },
  {
   "cell_type": "code",
   "execution_count": null,
   "id": "0ea8e4f5-08e3-41d3-97ae-ca712bdff8cc",
   "metadata": {},
   "outputs": [],
   "source": [
    "num_classes = 4\n",
    "\n",
    "model = Sequential([\n",
    "  layers.Rescaling(1./255, input_shape=(img_height, img_width, 3)),\n",
    "  layers.Conv2D(16, 3, padding='same', activation='relu'),\n",
    "  layers.MaxPooling2D(),\n",
    "  layers.Conv2D(32, 3, padding='same', activation='relu'),\n",
    "  layers.MaxPooling2D(),\n",
    "  layers.Conv2D(64, 3, padding='same', activation='relu'),\n",
    "  layers.MaxPooling2D(),\n",
    "  layers.Flatten(),\n",
    "  layers.Dense(128, activation='relu'),\n",
    "  layers.Dense(num_classes)\n",
    "])\n",
    "\n",
    "model.compile(optimizer='adam',\n",
    "              loss=tf.keras.losses.SparseCategoricalCrossentropy(from_logits=True),\n",
    "              metrics=['accuracy'])\n",
    "\n",
    "\n",
    "model.summary()"
   ]
  },
  {
   "cell_type": "raw",
   "id": "6c13af02-89be-45e0-a3bb-c5ec9dfc9d9b",
   "metadata": {},
   "source": [
    "Training the model for 15 epochs"
   ]
  },
  {
   "cell_type": "code",
   "execution_count": null,
   "id": "e60998b3-474a-4581-b174-5ed33913641c",
   "metadata": {},
   "outputs": [],
   "source": [
    "epochs = 15\n",
    "history = model.fit(train_ds,validation_data=val_ds,epochs=epochs)"
   ]
  }
 ],
 "metadata": {
  "kernelspec": {
   "display_name": "Python 3 (ipykernel)",
   "language": "python",
   "name": "python3"
  },
  "language_info": {
   "codemirror_mode": {
    "name": "ipython",
    "version": 3
   },
   "file_extension": ".py",
   "mimetype": "text/x-python",
   "name": "python",
   "nbconvert_exporter": "python",
   "pygments_lexer": "ipython3",
   "version": "3.10.2"
  }
 },
 "nbformat": 4,
 "nbformat_minor": 5
}
