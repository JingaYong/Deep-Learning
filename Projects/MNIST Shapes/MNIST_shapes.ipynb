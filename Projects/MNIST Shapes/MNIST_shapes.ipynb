{
 "cells": [
  {
   "cell_type": "raw",
   "id": "d6b50f5f-9853-4d82-8d7d-aad0247c3515",
   "metadata": {},
   "source": [
    "Import Packages"
   ]
  },
  {
   "cell_type": "code",
   "execution_count": null,
   "id": "937002f7-2545-4852-b191-99aeadde6ad9",
   "metadata": {},
   "outputs": [],
   "source": [
    "import numpy as np\n",
    "import pandas as pd\n",
    "import tensorflow as tf\n",
    "from tensorflow import keras\n",
    "from keras.models import load_model\n",
    "from sklearn.model_selection import train_test_split as tt\n",
    "from keras.layers import Conv2D,Dense,MaxPooling2D,Flatten\n",
    "import os\n",
    "import warnings\n",
    "import re\n",
    "\n",
    "warnings.filterwarnings('ignore')"
   ]
  },
  {
   "cell_type": "raw",
   "id": "312481e9-d089-47f8-a84f-5db0b3210add",
   "metadata": {},
   "source": [
    "Reading csv file "
   ]
  },
  {
   "cell_type": "code",
   "execution_count": null,
   "id": "7d2416ea-3fa3-4581-b3e7-f075568cba59",
   "metadata": {},
   "outputs": [],
   "source": [
    "# 0:Circle, 1:Triangle, 2:Square (28x28 pixels)\n",
    "df = pd.read_csv(\"../MNIST Shapes/train_data.csv\")\n",
    "print(df['label'].value_counts())\n",
    "print(df.shape)"
   ]
  },
  {
   "cell_type": "raw",
   "id": "b2fa7055-051a-4f4d-9a94-a93c70732b3e",
   "metadata": {},
   "source": [
    "Assigning the features to x and label to y\n",
    "Further splitting the data into train and test sets"
   ]
  },
  {
   "cell_type": "code",
   "execution_count": null,
   "id": "7fb8d98e-2d6f-422f-809d-74575abda858",
   "metadata": {},
   "outputs": [],
   "source": [
    "x = np.asarray(df.drop(['label'],axis=1))\n",
    "y = df['label']\n",
    "\n",
    "# Data Splitting\n",
    "x_train, x_test, y_train, y_test = tt(x, y, train_size=0.8, stratify=y, random_state=0)"
   ]
  },
  {
   "cell_type": "raw",
   "id": "bde5ad7d-7a70-4eff-a664-6cff7725dc91",
   "metadata": {},
   "source": [
    "Normalization of pixel data"
   ]
  },
  {
   "cell_type": "code",
   "execution_count": null,
   "id": "2522a7bd-bcc2-4160-bba3-2135cfca701a",
   "metadata": {},
   "outputs": [],
   "source": [
    "x_train = x_train.reshape(-1, 28, 28, 1).astype(\"float32\") / 255.0\n",
    "x_test = x_test.reshape(-1, 28, 28, 1).astype(\"float32\") / 255.0"
   ]
  },
  {
   "cell_type": "raw",
   "id": "a3062ec2-75ac-4307-b189-3214bd6252d6",
   "metadata": {},
   "source": [
    "CNN Model Construction, using adam optimizer with learning rate = 0.003, Sparse Categorical CrossEntropy Loss Function "
   ]
  },
  {
   "cell_type": "code",
   "execution_count": null,
   "id": "82d0ce61-df64-48f2-84f1-64f53c13d30b",
   "metadata": {},
   "outputs": [],
   "source": [
    "model = keras.Sequential(\n",
    "    [\n",
    "        keras.Input(shape=(28, 28, 1)),\n",
    "        # Conv2D(#filter,filter size)\n",
    "        # padding=\"valid\" => default-32 to 30, padding=\"sme\" => size is minted(32 to 32)\n",
    "        Conv2D(256, 3, padding=\"same\", activation=\"relu\"),\n",
    "        MaxPooling2D(),\n",
    "        Conv2D(128, 3, activation=\"relu\"),\n",
    "        MaxPooling2D(),\n",
    "        Conv2D(128, 3, activation=\"relu\"),\n",
    "        Flatten(),\n",
    "        Dense(64, activation=\"relu\"),\n",
    "        Dense(3,activation=\"softmax\"),\n",
    "    ]\n",
    ")\n",
    "\n",
    "model.compile(\n",
    "    loss=keras.losses.SparseCategoricalCrossentropy(),\n",
    "    optimizer=keras.optimizers.Adam(lr=0.003),\n",
    "    metrics=[\"accuracy\"],\n",
    ")"
   ]
  },
  {
   "cell_type": "raw",
   "id": "1b2cc140-a1ef-4685-bb95-df3e0c4f2707",
   "metadata": {},
   "source": [
    "Fitting the data and evaluating model on test data\n",
    "Save the trained model"
   ]
  },
  {
   "cell_type": "code",
   "execution_count": null,
   "id": "bc123015-6f10-491f-94be-ae28f01d4d06",
   "metadata": {},
   "outputs": [],
   "source": [
    "model.fit(x_train, y_train, batch_size=64, epochs=10, verbose=2)\n",
    "model.evaluate(x_test, y_test, batch_size=64, verbose=2)\n",
    "\n",
    "model.save(\"mnist_shapes_model.h5\")\n",
    "del model"
   ]
  },
  {
   "cell_type": "raw",
   "id": "3885eb5b-ea64-4ec2-96bf-14a24c44a39d",
   "metadata": {},
   "source": [
    "Loading the model"
   ]
  },
  {
   "cell_type": "code",
   "execution_count": null,
   "id": "9f8bac11-3159-4ebc-b058-4ddb78931b46",
   "metadata": {},
   "outputs": [],
   "source": [
    "model = load_model(\"mnist_shapes_model.h5\")"
   ]
  },
  {
   "cell_type": "raw",
   "id": "c5eecfe0-84b8-4c09-a83a-db5bc070b5fa",
   "metadata": {},
   "source": [
    "Predictions on user defined inputs"
   ]
  },
  {
   "cell_type": "code",
   "execution_count": null,
   "id": "54bb01ab-d038-457e-a1da-d02a748bfd59",
   "metadata": {},
   "outputs": [],
   "source": [
    "ip = np.asarray([255,255,255,255,255,255,255,255,255,254,255,254,255,255,255,255,255,255,255,253,255,253,255,255,255,255,255,255,255,255,255,255,255,255,255,255,255,254,253,255,255,255,255,254,255,253,255,255,253,255,254,254,255,255,255,255,255,255,255,255,255,255,255,255,254,255,255,255,253,255,255,255,255,254,255,253,255,253,255,255,255,255,255,255,255,255,255,255,255,255,255,255,255,254,254,254,255,254,255,255,254,252,255,254,252,255,251,255,255,255,255,255,255,255,255,255,255,255,255,255,255,254,255,255,255,253,255,254,255,255,255,255,255,255,255,254,255,255,255,255,255,255,255,255,255,255,255,255,255,255,254,255,252,255,1,1,255,255,252,253,255,254,255,255,255,255,255,255,255,255,255,255,255,255,255,255,255,255,255,250,255,2,0,0,1,253,255,255,255,254,254,254,255,255,255,255,255,255,255,255,255,255,255,255,255,254,254,255,1,0,255,255,0,2,255,254,255,255,255,254,255,255,255,255,254,255,255,254,255,253,255,255,255,255,255,0,0,255,254,255,254,2,252,255,253,255,255,255,255,255,255,255,255,255,254,255,253,255,254,255,255,253,0,1,255,255,255,253,255,253,2,252,255,254,254,254,255,255,255,255,253,255,254,254,255,251,255,253,254,1,255,253,255,254,255,255,255,255,0,4,253,255,255,255,255,255,255,255,255,252,253,255,252,255,254,1,2,253,254,255,252,255,254,255,254,255,255,0,255,255,253,255,255,255,255,255,254,254,255,253,255,255,254,0,255,253,255,253,255,254,253,255,254,254,255,2,0,254,255,255,255,255,255,255,255,255,255,255,251,254,0,1,254,255,255,252,255,255,255,255,255,254,255,255,253,0,0,255,255,255,255,255,254,255,255,255,255,1,2,254,255,252,255,255,253,255,253,255,255,254,255,255,255,255,1,0,255,255,255,255,255,255,255,254,0,0,1,0,0,2,0,0,2,0,2,0,0,0,1,0,1,0,0,1,255,255,255,255,255,255,255,255,255,255,255,255,255,255,255,255,255,255,255,255,255,255,255,255,255,255,255,255,255,255,255,255,255,255,255,255,255,255,255,255,255,255,255,255,255,255,255,255,255,255,255,255,255,255,255,255,255,255,255,255,255,255,255,255,255,255,255,255,255,255,255,255,255,255,255,255,255,255,255,255,255,255,255,255,255,255,255,255,255,255,255,255,255,255,255,255,255,255,255,255,255,255,255,255,255,255,255,255,255,255,255,255,255,255,255,255,255,255,255,255,255,255,255,255,255,255,255,255,255,255,255,255,255,255,255,255,255,255,255,255,255,255,255,255,255,255,255,255,255,255,255,255,255,255,255,255,255,255,255,255,255,255,255,255,255,255,255,255,255,255,255,255,255,255,255,255,255,255,255,255,255,255,255,255,255,255,255,255,255,255,255,255,255,255,255,255,255,255,255,255,255,255,255,255,255,255,255,255,255,255,255,255,255,255,255,255,255,255,255,255,255,255,255,255,255,255,255,255,255,255,255,255,255,255,255,255,255,255,255,255,255,255,255,255,255,255,255,255,255,255,255,255,255,255,255,255,255,255,255,255,255,255,255,255,255,255,255,255,255,255,255,255,255,255,255,255,255,255,255,255,255,255,255,255,255,255,255,255,255,255,255,255,255,255,255,255,255,255,255,255,255,255,255,255,255,255,255,255,255,255,255,255,255,255,255,255,255,255,255,255,255,255,255,255,255,255,255,255,255,255,255,255,255,255,255,255,255,255,255,255])\n",
    "\n",
    "ip = ip.reshape((-1,28,28,1)).astype(\"float32\") / 255.0\n",
    "pred = model.predict(ip)\n",
    "print(pred)\n",
    "\n",
    "op = np.argmax(pred,axis=1)\n",
    "print(op)"
   ]
  }
 ],
 "metadata": {
  "kernelspec": {
   "display_name": "Python 3 (ipykernel)",
   "language": "python",
   "name": "python3"
  },
  "language_info": {
   "codemirror_mode": {
    "name": "ipython",
    "version": 3
   },
   "file_extension": ".py",
   "mimetype": "text/x-python",
   "name": "python",
   "nbconvert_exporter": "python",
   "pygments_lexer": "ipython3",
   "version": "3.10.2"
  }
 },
 "nbformat": 4,
 "nbformat_minor": 5
}
